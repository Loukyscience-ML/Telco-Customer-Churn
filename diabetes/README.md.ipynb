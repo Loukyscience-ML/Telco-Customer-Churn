Diabetes Prediction Project
This project focuses on predicting diabetes in patients using various machine learning techniques. The goal is to identify patterns and factors that can help in early diagnosis of diabetes based on medical data.

Dataset
The dataset used in this project contains medical records of patients and includes the following key features:

Pregnancies: Number of times the patient has been pregnant.
Glucose: Plasma glucose concentration after 2 hours in an oral glucose tolerance test.
Blood Pressure: Diastolic blood pressure (mm Hg).
Skin Thickness: Triceps skinfold thickness (mm).
Insulin: 2-hour serum insulin (mu U/ml).
BMI: Body mass index (weight in kg/(height in m)^2).
Diabetes Pedigree Function: A function which scores the likelihood of diabetes based on family history.
Age: Age of the patient.
Outcome: 0 for non-diabetic, 1 for diabetic.
Project Structure
diabetes_data.csv: The dataset used for training and testing the model.
diabetes_analysis.ipynb: Jupyter notebook containing the data analysis, visualization, and machine learning model.
README.md: This file, providing an overview of the project.